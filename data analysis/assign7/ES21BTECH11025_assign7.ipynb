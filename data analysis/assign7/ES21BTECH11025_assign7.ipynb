{
  "cells": [
    {
      "cell_type": "markdown",
      "metadata": {
        "id": "bL8Ia1fRtQHm"
      },
      "source": [
        "#### EP4130: Data Science Analysis\n",
        "\n",
        "#### Assignment 7\n",
        "\n",
        "#### Ranveer Sahu- ES21BTECH11025"
      ]
    },
    {
      "cell_type": "markdown",
      "metadata": {
        "id": "gNCppcqlw58Z"
      },
      "source": [
        "**********"
      ]
    },
    {
      "cell_type": "code",
      "execution_count": 70,
      "metadata": {
        "colab": {
          "base_uri": "https://localhost:8080/"
        },
        "id": "yeFsTUiCx6Sd",
        "outputId": "632f83a5-46db-4fb3-9056-8f7236ed07c5"
      },
      "outputs": [
        {
          "name": "stdout",
          "output_type": "stream",
          "text": [
            "Defaulting to user installation because normal site-packages is not writeable\n",
            "Requirement already satisfied: emcee in /home/coder/.local/lib/python3.10/site-packages (3.1.4)\n",
            "Requirement already satisfied: numpy in /home/coder/.local/lib/python3.10/site-packages (from emcee) (1.24.3)\n"
          ]
        },
        {
          "name": "stdout",
          "output_type": "stream",
          "text": [
            "Note: you may need to restart the kernel to use updated packages.\n"
          ]
        }
      ],
      "source": [
        "pip install emcee"
      ]
    },
    {
      "cell_type": "code",
      "execution_count": 71,
      "metadata": {
        "colab": {
          "base_uri": "https://localhost:8080/"
        },
        "id": "5VNVmxaLxoYH",
        "outputId": "26311706-4fbb-4c80-d30b-2c673f1dfbd7"
      },
      "outputs": [
        {
          "name": "stdout",
          "output_type": "stream",
          "text": [
            "Defaulting to user installation because normal site-packages is not writeable\n",
            "Requirement already satisfied: corner in /home/coder/.local/lib/python3.10/site-packages (2.2.2)\n",
            "Requirement already satisfied: matplotlib>=2.1 in /home/coder/.local/lib/python3.10/site-packages (from corner) (3.7.1)\n",
            "Requirement already satisfied: packaging>=20.0 in /home/coder/.local/lib/python3.10/site-packages (from matplotlib>=2.1->corner) (23.0)\n",
            "Requirement already satisfied: python-dateutil>=2.7 in /home/coder/.local/lib/python3.10/site-packages (from matplotlib>=2.1->corner) (2.8.2)\n",
            "Requirement already satisfied: contourpy>=1.0.1 in /home/coder/.local/lib/python3.10/site-packages (from matplotlib>=2.1->corner) (1.0.7)\n",
            "Requirement already satisfied: pillow>=6.2.0 in /usr/lib/python3/dist-packages (from matplotlib>=2.1->corner) (9.0.1)\n",
            "Requirement already satisfied: fonttools>=4.22.0 in /home/coder/.local/lib/python3.10/site-packages (from matplotlib>=2.1->corner) (4.39.3)\n",
            "Requirement already satisfied: cycler>=0.10 in /home/coder/.local/lib/python3.10/site-packages (from matplotlib>=2.1->corner) (0.11.0)\n",
            "Requirement already satisfied: pyparsing>=2.3.1 in /usr/lib/python3/dist-packages (from matplotlib>=2.1->corner) (2.4.7)\n",
            "Requirement already satisfied: numpy>=1.20 in /home/coder/.local/lib/python3.10/site-packages (from matplotlib>=2.1->corner) (1.24.3)\n",
            "Requirement already satisfied: kiwisolver>=1.0.1 in /home/coder/.local/lib/python3.10/site-packages (from matplotlib>=2.1->corner) (1.4.4)\n",
            "Requirement already satisfied: six>=1.5 in /usr/lib/python3/dist-packages (from python-dateutil>=2.7->matplotlib>=2.1->corner) (1.16.0)\n",
            "Note: you may need to restart the kernel to use updated packages.\n"
          ]
        }
      ],
      "source": [
        "pip install corner"
      ]
    },
    {
      "cell_type": "code",
      "execution_count": 72,
      "metadata": {
        "colab": {
          "base_uri": "https://localhost:8080/"
        },
        "id": "dgOl2LNqyBXY",
        "outputId": "5b6160b2-6290-4181-9e58-5268577fe064"
      },
      "outputs": [
        {
          "name": "stdout",
          "output_type": "stream",
          "text": [
            "Defaulting to user installation because normal site-packages is not writeable\n",
            "Requirement already satisfied: dynesty in /home/coder/.local/lib/python3.10/site-packages (2.1.3)\n",
            "Note: you may need to restart the kernel to use updated packages.\n"
          ]
        }
      ],
      "source": [
        "pip install dynesty"
      ]
    },
    {
      "cell_type": "code",
      "execution_count": 73,
      "metadata": {
        "id": "bWeRGad0tQHn"
      },
      "outputs": [],
      "source": [
        "import numpy as np\n",
        "import scipy as sp\n",
        "import pandas as pd\n",
        "import matplotlib.pyplot as plt\n",
        "import emcee\n",
        "import corner\n",
        "import dynesty\n",
        "from dynesty import NestedSampler\n",
        "from sklearn.neighbors import KernelDensity as kde"
      ]
    },
    {
      "cell_type": "markdown",
      "metadata": {
        "id": "e3sk6jwJw4C7"
      },
      "source": [
        "***********"
      ]
    },
    {
      "cell_type": "markdown",
      "metadata": {
        "id": "P9eor6lMtQHo"
      },
      "source": [
        "**Question 1**\n",
        "\n",
        "Download the SPT fgas data from http://iith.ac.in/~shantanud/fgas_\n",
        "spt.txt. Fit the data to f0 (1 + f1 z) where f0 and f1 are unknown constants. Determine the best fit values of f0 and f1 including 68% and 90% credible intervals using emcee and corner.py . The priors on f0 and f1 should be 0 < f0 < 0.5 and −0.5 < f1 < 0.5."
      ]
    },
    {
      "cell_type": "code",
      "execution_count": 74,
      "metadata": {
        "id": "H8UQZQELtQHo"
      },
      "outputs": [],
      "source": [
        "data = pd.read_csv(\"fgas_spt.txt\")\n",
        "z = data[\"z\"]\n",
        "f_gas = data[\"fgas\"]\n",
        "fgas_err = data[\"fgas_error\"]"
      ]
    },
    {
      "cell_type": "markdown",
      "metadata": {
        "id": "YaoVBaSyvqtY"
      },
      "source": [
        "**defining log_prior:**"
      ]
    },
    {
      "cell_type": "code",
      "execution_count": 75,
      "metadata": {
        "id": "gFYno-wFtQHp"
      },
      "outputs": [],
      "source": [
        "def log_prior(theta):\n",
        "    f0 , f1 = theta\n",
        "    if 0 < f0 < 0.5 and -0.5 < f1 < 0.5:\n",
        "        return 0.0\n",
        "    return -np.inf"
      ]
    },
    {
      "cell_type": "markdown",
      "metadata": {
        "id": "IyhA_20NvVd7"
      },
      "source": [
        "**defining the log likelihood:**"
      ]
    },
    {
      "cell_type": "code",
      "execution_count": 76,
      "metadata": {
        "id": "n-m09Wv5tQHp"
      },
      "outputs": [],
      "source": [
        "def log_likelihood(theta, z, f_gas, fgas_err):\n",
        "    f0, f1 = theta\n",
        "    model = f0 + f1 * z\n",
        "    return -0.5 * np.sum(((f_gas - model) / fgas_err)**2)"
      ]
    },
    {
      "cell_type": "markdown",
      "metadata": {
        "id": "5SsdZT4bvj5u"
      },
      "source": [
        "**definign the log posterior:**"
      ]
    },
    {
      "cell_type": "code",
      "execution_count": 77,
      "metadata": {
        "id": "8DiCCDF1tQHq"
      },
      "outputs": [],
      "source": [
        "def log_posterior(theta, z, f_gas, fgas_err):\n",
        "    return log_prior(theta) + log_likelihood(theta, z, f_gas, fgas_err)"
      ]
    },
    {
      "cell_type": "markdown",
      "metadata": {
        "id": "RG0JZqZxv-rm"
      },
      "source": [
        "**running MCMC:**"
      ]
    },
    {
      "cell_type": "code",
      "execution_count": 78,
      "metadata": {
        "id": "u1RKl3nBtQHq"
      },
      "outputs": [],
      "source": [
        "nwalkers = 50\n",
        "nsteps = 2000\n",
        "ndim = 2 \n",
        "nburn = 1000  "
      ]
    },
    {
      "cell_type": "markdown",
      "metadata": {
        "id": "fSKJbx-xwRYh"
      },
      "source": [
        "**initial guess for parameters:**"
      ]
    },
    {
      "cell_type": "code",
      "execution_count": 79,
      "metadata": {
        "id": "b8A2KNuKwLOA"
      },
      "outputs": [],
      "source": [
        "f0_guess = np.random.uniform(0 , 0.5 , nwalkers)\n",
        "f1_guess = np.random.uniform(-0.5 , 0.5 , nwalkers)\n",
        "initial = np.vstack((f0_guess , f1_guess)).T"
      ]
    },
    {
      "cell_type": "markdown",
      "metadata": {
        "id": "AnBg_daBwiUm"
      },
      "source": [
        "**defining the sampler:**"
      ]
    },
    {
      "cell_type": "code",
      "execution_count": 80,
      "metadata": {
        "id": "J0Jb6hWTwM-Y"
      },
      "outputs": [],
      "source": [
        "sampler = emcee.EnsembleSampler(nwalkers , ndim , log_posterior , args = (z , f_gas , fgas_err))\n",
        "sampler.run_mcmc(initial , nsteps)\n",
        "samples = sampler.chain[: , nburn: , :].reshape(-1 , ndim)"
      ]
    },
    {
      "cell_type": "markdown",
      "metadata": {
        "id": "njT4_cjzwrAj"
      },
      "source": [
        "**Plots:**"
      ]
    },
    {
      "cell_type": "code",
      "execution_count": 81,
      "metadata": {
        "colab": {
          "base_uri": "https://localhost:8080/",
          "height": 452
        },
        "id": "CaDkNF6rtQHq",
        "outputId": "594dcd02-f563-4e91-a98d-7323bd018391"
      },
      "outputs": [
        {
          "data": {
            "image/png": "[encoded data removed]",
            "text/plain": [
              "<Figure size 640x480 with 1 Axes>"
            ]
          },
          "metadata": {},
          "output_type": "display_data"
        }
      ],
      "source": [
        "f0 = samples[:,0].mean()\n",
        "f1 = samples[:,1].mean()\n",
        "x = np.linspace(0,1.5,100)\n",
        "plt.plot(z , f_gas , 'kx')\n",
        "plt.title(\"best fit line\")\n",
        "plt.plot(x , f0 * (1 + f1*x) , 'b-')\n",
        "plt.grid(True)\n",
        "plt.show()"
      ]
    },
    {
      "cell_type": "code",
      "execution_count": 82,
      "metadata": {
        "colab": {
          "base_uri": "https://localhost:8080/",
          "height": 538
        },
        "id": "osEAeZ-3tQHr",
        "outputId": "4b69643d-db51-450a-d1a3-e45e1fbbb8ab"
      },
      "outputs": [
        {
          "name": "stdout",
          "output_type": "stream",
          "text": [
            "68% and 95% joint confidence intervals for f_0 and f_1\n"
          ]
        },
        {
          "data": {
            "image/png": "[encoded data removed]",
            "text/plain": [
              "<Figure size 550x550 with 4 Axes>"
            ]
          },
          "metadata": {},
          "output_type": "display_data"
        }
      ],
      "source": [
        "print(\"68% and 95% joint confidence intervals for f_0 and f_1\")\n",
        "corner.corner(samples , labels = [\"f0\" , \"f1\"] , truths = [f0 , f1] , quantiles = (0.16 , 0.84 , 0.025 , 0.975))\n",
        "plt.show()"
      ]
    },
    {
      "cell_type": "markdown",
      "metadata": {
        "id": "oHZt4fnCwy6M"
      },
      "source": [
        "**********"
      ]
    },
    {
      "cell_type": "markdown",
      "metadata": {
        "id": "33f0NXhytQHr"
      },
      "source": [
        "**Question 2**\n",
        "\n",
        "Calculate the Bayes factor for the linear and quadratic model for the example given on fifth blog article of the Pythonic Perambulations Series using dynesty or Nestle. Do the values agree with what’s on the blog(obtained by integrating the emcee samples).?"
      ]
    },
    {
      "cell_type": "code",
      "execution_count": 83,
      "metadata": {
        "id": "F9Cg2ocftQHr"
      },
      "outputs": [],
      "source": [
        "data = np.array([[0.42,  0.72,  0.,  0.3,  0.15,0.09,  0.19,  0.35,  0.4,  0.54,\n",
        "                  0.42,  0.69,  0.2,  0.88,  0.03,0.67,  0.42,  0.56,  0.14,  0.2],\n",
        "                 [0.33,  0.41, -0.22,  0.01, -0.05, -0.05, -0.12,  0.26,  0.29,  0.39,\n",
        "                  0.31,  0.42, -0.01,  0.58, -0.2, 0.52,  0.15,  0.32, -0.13, -0.09],\n",
        "                 [0.1,  0.1,  0.1,  0.1,  0.1, 0.1,  0.1,  0.1,  0.1,  0.1,\n",
        "                  0.1,  0.1,  0.1,  0.1,  0.1, 0.1,  0.1,  0.1,  0.1,  0.1]])\n",
        "\n",
        "x , y , sigma_y = data"
      ]
    },
    {
      "cell_type": "markdown",
      "metadata": {
        "id": "m11foYJ3FI6V"
      },
      "source": [
        "**polynomial fit function:**"
      ]
    },
    {
      "cell_type": "code",
      "execution_count": 84,
      "metadata": {
        "id": "rVgutMD9tQHs"
      },
      "outputs": [],
      "source": [
        "def polynomial_fit(theta):\n",
        "    sum = 0\n",
        "    for idx , coeff in enumerate(theta):\n",
        "        sum += coeff * x ** idx\n",
        "    return sum"
      ]
    },
    {
      "cell_type": "markdown",
      "metadata": {
        "id": "vWWQNeuCFRyE"
      },
      "source": [
        "**log likelihood function:**"
      ]
    },
    {
      "cell_type": "code",
      "execution_count": 85,
      "metadata": {
        "id": "SqxR97BvFA9e"
      },
      "outputs": [],
      "source": [
        "def log_likelyhood(theta, data=data):\n",
        "    pred = polynomial_fit(theta)\n",
        "    return -0.5 * np.sum(np.log(2 * np.pi * sigma_y ** 2) + (y - pred) ** 2 / sigma_y ** 2)"
      ]
    },
    {
      "cell_type": "markdown",
      "metadata": {
        "id": "bA8qz7AzFc6c"
      },
      "source": [
        "**prior function:**"
      ]
    },
    {
      "cell_type": "code",
      "execution_count": 86,
      "metadata": {
        "id": "xchRQ1O6FDVY"
      },
      "outputs": [],
      "source": [
        "def prior(theta):\n",
        "    return 200*theta - 100"
      ]
    },
    {
      "cell_type": "code",
      "execution_count": 87,
      "metadata": {
        "colab": {
          "base_uri": "https://localhost:8080/"
        },
        "id": "43ug3XhNtQHs",
        "outputId": "92c46ef3-d2e7-4629-8571-33982f4edccd"
      },
      "outputs": [],
      "source": [
        "# Taking reference from\n",
        "# http://mattpitkin.github.io/samplers-demo/pages/samplers-samplers-everywhere/#dynesty\n",
        "\n",
        "nlive = 1024      # number of live points\n",
        "bound = 'multi'   # use MutliNest algorithm for bounds\n",
        "ndims = 2         # two parameters\n",
        "sample = 'unif'   # uniform sampling\n",
        "tol = 0.1         # the stopping criterion"
      ]
    },
    {
      "cell_type": "code",
      "execution_count": 88,
      "metadata": {},
      "outputs": [],
      "source": [
        "sampler = NestedSampler(log_likelyhood, prior, ndims,\n",
        "                        bound=bound, sample=sample, nlive=nlive)\n",
        "\n",
        "sampler.run_nested(dlogz=tol, print_progress=False) # don't output progress bar\n",
        "\n",
        "res = sampler.results # get results dictionary from sampler\n",
        "\n",
        "logZdynesty_linear = res.logz[-1]        # value of logZ\n",
        "logZerrdynesty_linear = res.logzerr[-1]  # estimate of the statistcal uncertainty on logZ"
      ]
    },
    {
      "cell_type": "code",
      "execution_count": 89,
      "metadata": {},
      "outputs": [
        {
          "name": "stdout",
          "output_type": "stream",
          "text": [
            "log(Z) for the Linear Model = 7.027910396437706 ± 0.14782896065052578\n"
          ]
        }
      ],
      "source": [
        "print(\"log(Z) for the Linear Model = {} ± {}\".format(logZdynesty_linear, logZerrdynesty_linear))"
      ]
    },
    {
      "cell_type": "code",
      "execution_count": 90,
      "metadata": {
        "colab": {
          "base_uri": "https://localhost:8080/"
        },
        "id": "d6w1Rf3HtQHs",
        "outputId": "4d4a9e9f-6cb7-49ca-eba7-b40657e6cf93"
      },
      "outputs": [],
      "source": [
        "# Taking reference from\n",
        "# http://mattpitkin.github.io/samplers-demo/pages/samplers-samplers-everywhere/#dynesty\n",
        "\n",
        "nlive = 1024      # number of live points\n",
        "bound = 'multi'   # use MutliNest algorithm for bounds\n",
        "ndims = 3         # three parameters\n",
        "sample = 'unif'   # uniform sampling\n",
        "tol = 0.1         # the stopping criterion"
      ]
    },
    {
      "cell_type": "code",
      "execution_count": 91,
      "metadata": {},
      "outputs": [],
      "source": [
        "sampler = NestedSampler(log_likelyhood, prior, ndims,\n",
        "                        bound=bound, sample=sample, nlive=nlive)\n",
        "\n",
        "sampler.run_nested(dlogz=tol, print_progress=False) # don't output progress bar\n",
        "\n",
        "res = sampler.results # get results dictionary from sampler\n",
        "\n",
        "logZdynesty_quadratic = res.logz[-1]        # value of logZ\n",
        "logZerrdynesty_quadratic = res.logzerr[-1]  # estimate of the statistcal uncertainty on logZ"
      ]
    },
    {
      "cell_type": "code",
      "execution_count": 92,
      "metadata": {},
      "outputs": [
        {
          "name": "stdout",
          "output_type": "stream",
          "text": [
            "log(Z) for the Quad. Model = 2.5350348388325794 ± 0.17156736844087703\n"
          ]
        }
      ],
      "source": [
        "print(\"log(Z) for the Quad. Model = {} ± {}\".format(logZdynesty_quadratic, logZerrdynesty_quadratic))"
      ]
    },
    {
      "cell_type": "code",
      "execution_count": 93,
      "metadata": {
        "colab": {
          "base_uri": "https://localhost:8080/"
        },
        "id": "qHNUN_3FtQHs",
        "outputId": "39be69b3-39ac-4ba2-9f49-26916b1e97ce"
      },
      "outputs": [
        {
          "name": "stdout",
          "output_type": "stream",
          "text": [
            "Bayes factor(quad. model): 0.01118842454832019\n"
          ]
        }
      ],
      "source": [
        "print(\"Bayes factor(quad. model):\",format(np.exp(logZdynesty_quadratic) / np.exp(logZdynesty_linear)))"
      ]
    },
    {
      "cell_type": "markdown",
      "metadata": {
        "id": "89qm3BFMGBPM"
      },
      "source": [
        "**************"
      ]
    },
    {
      "cell_type": "markdown",
      "metadata": {
        "id": "MD0rpiT2tQHs"
      },
      "source": [
        "**Question 3**\n",
        "\n",
        "Download the SDSS quasar dataset from http://astrostatistics.psu.edu/datasets/SDSS_quasar.dat. Plot the KDE estimate of the quasar redshift distribution (the column with the title z) using a Gaussian and also an exponential kernel (with bandwidth=0.2) from -0.5 to 5.5. (20 points)(Hint: Look at the KDE help page in scikit-learn or use the corresponding functions in astroML module by looking at source code of astroML figures 6.3 and 6.4)"
      ]
    },
    {
      "cell_type": "code",
      "execution_count": 94,
      "metadata": {
        "colab": {
          "base_uri": "https://localhost:8080/",
          "height": 324
        },
        "id": "zcbhaScHtQHs",
        "outputId": "e7489a1f-c680-4c82-bee8-5777d1a857a9"
      },
      "outputs": [
        {
          "data": {
            "text/html": [
              "<div>\n",
              "<style scoped>\n",
              "    .dataframe tbody tr th:only-of-type {\n",
              "        vertical-align: middle;\n",
              "    }\n",
              "\n",
              "    .dataframe tbody tr th {\n",
              "        vertical-align: top;\n",
              "    }\n",
              "\n",
              "    .dataframe thead th {\n",
              "        text-align: right;\n",
              "    }\n",
              "</style>\n",
              "<table border=\"1\" class=\"dataframe\">\n",
              "  <thead>\n",
              "    <tr style=\"text-align: right;\">\n",
              "      <th></th>\n",
              "      <th>SDSS_J</th>\n",
              "      <th>R.A.</th>\n",
              "      <th>Dec.</th>\n",
              "      <th>z</th>\n",
              "      <th>u_mag</th>\n",
              "      <th>sig_u</th>\n",
              "      <th>g_mag</th>\n",
              "      <th>sig_g</th>\n",
              "      <th>r_mag</th>\n",
              "      <th>sig_r</th>\n",
              "      <th>...</th>\n",
              "      <th>sig_z</th>\n",
              "      <th>Radio</th>\n",
              "      <th>X-ray</th>\n",
              "      <th>J_mag</th>\n",
              "      <th>sig_J</th>\n",
              "      <th>H_mag</th>\n",
              "      <th>sig_H</th>\n",
              "      <th>K_mag</th>\n",
              "      <th>sig_K</th>\n",
              "      <th>M_i</th>\n",
              "    </tr>\n",
              "  </thead>\n",
              "  <tbody>\n",
              "    <tr>\n",
              "      <th>0</th>\n",
              "      <td>000009.26+151754.5</td>\n",
              "      <td>0.038605</td>\n",
              "      <td>15.298476</td>\n",
              "      <td>1.1986</td>\n",
              "      <td>19.921</td>\n",
              "      <td>0.042</td>\n",
              "      <td>19.811</td>\n",
              "      <td>0.036</td>\n",
              "      <td>19.386</td>\n",
              "      <td>0.017</td>\n",
              "      <td>...</td>\n",
              "      <td>0.069</td>\n",
              "      <td>-1.0</td>\n",
              "      <td>-9.000</td>\n",
              "      <td>0.000</td>\n",
              "      <td>0.000</td>\n",
              "      <td>0.000</td>\n",
              "      <td>0.000</td>\n",
              "      <td>0.000</td>\n",
              "      <td>0.000</td>\n",
              "      <td>-25.085</td>\n",
              "    </tr>\n",
              "    <tr>\n",
              "      <th>1</th>\n",
              "      <td>000009.38+135618.4</td>\n",
              "      <td>0.039088</td>\n",
              "      <td>13.938447</td>\n",
              "      <td>2.2400</td>\n",
              "      <td>19.218</td>\n",
              "      <td>0.026</td>\n",
              "      <td>18.893</td>\n",
              "      <td>0.022</td>\n",
              "      <td>18.445</td>\n",
              "      <td>0.018</td>\n",
              "      <td>...</td>\n",
              "      <td>0.033</td>\n",
              "      <td>-1.0</td>\n",
              "      <td>-9.000</td>\n",
              "      <td>0.000</td>\n",
              "      <td>0.000</td>\n",
              "      <td>0.000</td>\n",
              "      <td>0.000</td>\n",
              "      <td>0.000</td>\n",
              "      <td>0.000</td>\n",
              "      <td>-27.419</td>\n",
              "    </tr>\n",
              "    <tr>\n",
              "      <th>2</th>\n",
              "      <td>000009.42-102751.9</td>\n",
              "      <td>0.039269</td>\n",
              "      <td>-10.464428</td>\n",
              "      <td>1.8442</td>\n",
              "      <td>19.249</td>\n",
              "      <td>0.036</td>\n",
              "      <td>19.029</td>\n",
              "      <td>0.027</td>\n",
              "      <td>18.980</td>\n",
              "      <td>0.021</td>\n",
              "      <td>...</td>\n",
              "      <td>0.047</td>\n",
              "      <td>0.0</td>\n",
              "      <td>-9.000</td>\n",
              "      <td>0.000</td>\n",
              "      <td>0.000</td>\n",
              "      <td>0.000</td>\n",
              "      <td>0.000</td>\n",
              "      <td>0.000</td>\n",
              "      <td>0.000</td>\n",
              "      <td>-26.459</td>\n",
              "    </tr>\n",
              "    <tr>\n",
              "      <th>3</th>\n",
              "      <td>000011.41+145545.6</td>\n",
              "      <td>0.047547</td>\n",
              "      <td>14.929353</td>\n",
              "      <td>0.4596</td>\n",
              "      <td>19.637</td>\n",
              "      <td>0.030</td>\n",
              "      <td>19.466</td>\n",
              "      <td>0.024</td>\n",
              "      <td>19.362</td>\n",
              "      <td>0.022</td>\n",
              "      <td>...</td>\n",
              "      <td>0.047</td>\n",
              "      <td>-1.0</td>\n",
              "      <td>-9.000</td>\n",
              "      <td>0.000</td>\n",
              "      <td>0.000</td>\n",
              "      <td>0.000</td>\n",
              "      <td>0.000</td>\n",
              "      <td>0.000</td>\n",
              "      <td>0.000</td>\n",
              "      <td>-22.728</td>\n",
              "    </tr>\n",
              "    <tr>\n",
              "      <th>4</th>\n",
              "      <td>000011.96+000225.3</td>\n",
              "      <td>0.049842</td>\n",
              "      <td>0.040372</td>\n",
              "      <td>0.4790</td>\n",
              "      <td>18.237</td>\n",
              "      <td>0.028</td>\n",
              "      <td>17.971</td>\n",
              "      <td>0.020</td>\n",
              "      <td>18.025</td>\n",
              "      <td>0.019</td>\n",
              "      <td>...</td>\n",
              "      <td>0.029</td>\n",
              "      <td>0.0</td>\n",
              "      <td>-1.660</td>\n",
              "      <td>16.651</td>\n",
              "      <td>0.136</td>\n",
              "      <td>15.820</td>\n",
              "      <td>0.149</td>\n",
              "      <td>14.821</td>\n",
              "      <td>0.111</td>\n",
              "      <td>-24.046</td>\n",
              "    </tr>\n",
              "    <tr>\n",
              "      <th>...</th>\n",
              "      <td>...</td>\n",
              "      <td>...</td>\n",
              "      <td>...</td>\n",
              "      <td>...</td>\n",
              "      <td>...</td>\n",
              "      <td>...</td>\n",
              "      <td>...</td>\n",
              "      <td>...</td>\n",
              "      <td>...</td>\n",
              "      <td>...</td>\n",
              "      <td>...</td>\n",
              "      <td>...</td>\n",
              "      <td>...</td>\n",
              "      <td>...</td>\n",
              "      <td>...</td>\n",
              "      <td>...</td>\n",
              "      <td>...</td>\n",
              "      <td>...</td>\n",
              "      <td>...</td>\n",
              "      <td>...</td>\n",
              "      <td>...</td>\n",
              "    </tr>\n",
              "    <tr>\n",
              "      <th>46415</th>\n",
              "      <td>235949.46+150430.6</td>\n",
              "      <td>359.956093</td>\n",
              "      <td>15.075185</td>\n",
              "      <td>0.2977</td>\n",
              "      <td>19.094</td>\n",
              "      <td>0.025</td>\n",
              "      <td>18.966</td>\n",
              "      <td>0.023</td>\n",
              "      <td>18.668</td>\n",
              "      <td>0.016</td>\n",
              "      <td>...</td>\n",
              "      <td>0.033</td>\n",
              "      <td>-1.0</td>\n",
              "      <td>-1.429</td>\n",
              "      <td>16.676</td>\n",
              "      <td>0.180</td>\n",
              "      <td>15.661</td>\n",
              "      <td>0.176</td>\n",
              "      <td>15.187</td>\n",
              "      <td>0.130</td>\n",
              "      <td>-22.286</td>\n",
              "    </tr>\n",
              "    <tr>\n",
              "      <th>46416</th>\n",
              "      <td>235953.44-093655.6</td>\n",
              "      <td>359.972672</td>\n",
              "      <td>-9.615454</td>\n",
              "      <td>0.3585</td>\n",
              "      <td>19.509</td>\n",
              "      <td>0.045</td>\n",
              "      <td>19.276</td>\n",
              "      <td>0.022</td>\n",
              "      <td>18.895</td>\n",
              "      <td>0.018</td>\n",
              "      <td>...</td>\n",
              "      <td>0.039</td>\n",
              "      <td>0.0</td>\n",
              "      <td>-9.000</td>\n",
              "      <td>16.976</td>\n",
              "      <td>0.173</td>\n",
              "      <td>16.188</td>\n",
              "      <td>0.164</td>\n",
              "      <td>15.502</td>\n",
              "      <td>0.238</td>\n",
              "      <td>-22.549</td>\n",
              "    </tr>\n",
              "    <tr>\n",
              "      <th>46417</th>\n",
              "      <td>235956.72+135131.7</td>\n",
              "      <td>359.986358</td>\n",
              "      <td>13.858825</td>\n",
              "      <td>2.3826</td>\n",
              "      <td>20.010</td>\n",
              "      <td>0.040</td>\n",
              "      <td>19.427</td>\n",
              "      <td>0.027</td>\n",
              "      <td>19.217</td>\n",
              "      <td>0.018</td>\n",
              "      <td>...</td>\n",
              "      <td>0.048</td>\n",
              "      <td>-1.0</td>\n",
              "      <td>-9.000</td>\n",
              "      <td>0.000</td>\n",
              "      <td>0.000</td>\n",
              "      <td>0.000</td>\n",
              "      <td>0.000</td>\n",
              "      <td>0.000</td>\n",
              "      <td>0.000</td>\n",
              "      <td>-26.665</td>\n",
              "    </tr>\n",
              "    <tr>\n",
              "      <th>46418</th>\n",
              "      <td>235958.21+005139.8</td>\n",
              "      <td>359.992546</td>\n",
              "      <td>0.861062</td>\n",
              "      <td>2.0382</td>\n",
              "      <td>19.256</td>\n",
              "      <td>0.034</td>\n",
              "      <td>19.004</td>\n",
              "      <td>0.021</td>\n",
              "      <td>18.794</td>\n",
              "      <td>0.017</td>\n",
              "      <td>...</td>\n",
              "      <td>0.036</td>\n",
              "      <td>0.0</td>\n",
              "      <td>-9.000</td>\n",
              "      <td>0.000</td>\n",
              "      <td>0.000</td>\n",
              "      <td>0.000</td>\n",
              "      <td>0.000</td>\n",
              "      <td>0.000</td>\n",
              "      <td>0.000</td>\n",
              "      <td>-26.900</td>\n",
              "    </tr>\n",
              "    <tr>\n",
              "      <th>46419</th>\n",
              "      <td>235959.06-090944.0</td>\n",
              "      <td>359.996089</td>\n",
              "      <td>-9.162229</td>\n",
              "      <td>1.2845</td>\n",
              "      <td>18.403</td>\n",
              "      <td>0.021</td>\n",
              "      <td>18.373</td>\n",
              "      <td>0.015</td>\n",
              "      <td>18.139</td>\n",
              "      <td>0.024</td>\n",
              "      <td>...</td>\n",
              "      <td>0.036</td>\n",
              "      <td>0.0</td>\n",
              "      <td>-9.000</td>\n",
              "      <td>0.000</td>\n",
              "      <td>0.000</td>\n",
              "      <td>0.000</td>\n",
              "      <td>0.000</td>\n",
              "      <td>0.000</td>\n",
              "      <td>0.000</td>\n",
              "      <td>-26.297</td>\n",
              "    </tr>\n",
              "  </tbody>\n",
              "</table>\n",
              "<p>46420 rows × 23 columns</p>\n",
              "</div>"
            ],
            "text/plain": [
              "                   SDSS_J        R.A.       Dec.       z   u_mag  sig_u   \n",
              "0      000009.26+151754.5    0.038605  15.298476  1.1986  19.921  0.042  \\\n",
              "1      000009.38+135618.4    0.039088  13.938447  2.2400  19.218  0.026   \n",
              "2      000009.42-102751.9    0.039269 -10.464428  1.8442  19.249  0.036   \n",
              "3      000011.41+145545.6    0.047547  14.929353  0.4596  19.637  0.030   \n",
              "4      000011.96+000225.3    0.049842   0.040372  0.4790  18.237  0.028   \n",
              "...                   ...         ...        ...     ...     ...    ...   \n",
              "46415  235949.46+150430.6  359.956093  15.075185  0.2977  19.094  0.025   \n",
              "46416  235953.44-093655.6  359.972672  -9.615454  0.3585  19.509  0.045   \n",
              "46417  235956.72+135131.7  359.986358  13.858825  2.3826  20.010  0.040   \n",
              "46418  235958.21+005139.8  359.992546   0.861062  2.0382  19.256  0.034   \n",
              "46419  235959.06-090944.0  359.996089  -9.162229  1.2845  18.403  0.021   \n",
              "\n",
              "        g_mag  sig_g   r_mag  sig_r  ...  sig_z  Radio  X-ray   J_mag  sig_J   \n",
              "0      19.811  0.036  19.386  0.017  ...  0.069   -1.0 -9.000   0.000  0.000  \\\n",
              "1      18.893  0.022  18.445  0.018  ...  0.033   -1.0 -9.000   0.000  0.000   \n",
              "2      19.029  0.027  18.980  0.021  ...  0.047    0.0 -9.000   0.000  0.000   \n",
              "3      19.466  0.024  19.362  0.022  ...  0.047   -1.0 -9.000   0.000  0.000   \n",
              "4      17.971  0.020  18.025  0.019  ...  0.029    0.0 -1.660  16.651  0.136   \n",
              "...       ...    ...     ...    ...  ...    ...    ...    ...     ...    ...   \n",
              "46415  18.966  0.023  18.668  0.016  ...  0.033   -1.0 -1.429  16.676  0.180   \n",
              "46416  19.276  0.022  18.895  0.018  ...  0.039    0.0 -9.000  16.976  0.173   \n",
              "46417  19.427  0.027  19.217  0.018  ...  0.048   -1.0 -9.000   0.000  0.000   \n",
              "46418  19.004  0.021  18.794  0.017  ...  0.036    0.0 -9.000   0.000  0.000   \n",
              "46419  18.373  0.015  18.139  0.024  ...  0.036    0.0 -9.000   0.000  0.000   \n",
              "\n",
              "        H_mag  sig_H   K_mag  sig_K     M_i  \n",
              "0       0.000  0.000   0.000  0.000 -25.085  \n",
              "1       0.000  0.000   0.000  0.000 -27.419  \n",
              "2       0.000  0.000   0.000  0.000 -26.459  \n",
              "3       0.000  0.000   0.000  0.000 -22.728  \n",
              "4      15.820  0.149  14.821  0.111 -24.046  \n",
              "...       ...    ...     ...    ...     ...  \n",
              "46415  15.661  0.176  15.187  0.130 -22.286  \n",
              "46416  16.188  0.164  15.502  0.238 -22.549  \n",
              "46417   0.000  0.000   0.000  0.000 -26.665  \n",
              "46418   0.000  0.000   0.000  0.000 -26.900  \n",
              "46419   0.000  0.000   0.000  0.000 -26.297  \n",
              "\n",
              "[46420 rows x 23 columns]"
            ]
          },
          "execution_count": 94,
          "metadata": {},
          "output_type": "execute_result"
        }
      ],
      "source": [
        "data = pd.read_csv(\"SDSS_quasar.txt\" , sep = \" \")\n",
        "data"
      ]
    },
    {
      "cell_type": "code",
      "execution_count": 95,
      "metadata": {
        "id": "EKL6b_MRtQHs"
      },
      "outputs": [],
      "source": [
        "quasar = data[\"z\"]\n",
        "quasar = quasar.to_numpy().reshape(-1,1)\n",
        "x = np.linspace(-0.5 , 5.5 , 1000)\n",
        "\n",
        "gaussian_kde = kde(kernel = \"gaussian\" , bandwidth = 0.2).fit(quasar)\n",
        "exponential_kde = kde(kernel = \"exponential\" , bandwidth = 0.2).fit(quasar)"
      ]
    },
    {
      "cell_type": "code",
      "execution_count": 97,
      "metadata": {},
      "outputs": [
        {
          "data": {
            "image/png": "[encoded data removed]",
            "text/plain": [
              "<Figure size 640x480 with 1 Axes>"
            ]
          },
          "metadata": {},
          "output_type": "display_data"
        }
      ],
      "source": [
        "plt.plot(x , np.exp(gaussian_kde.score_samples(x.reshape(-1,1))) , 'g-' , label = \"Gaussian KDE\")\n",
        "plt.plot(x , np.exp(exponential_kde.score_samples(x.reshape(-1,1))) , 'b-' , label = \"Exponential KDE\")\n",
        "plt.grid(True)\n",
        "plt.legend()\n",
        "plt.title(\"KDE using Gaus. and Exp. Kernels with bandwidth = 0.2\")\n",
        "plt.show()"
      ]
    },
    {
      "cell_type": "markdown",
      "metadata": {},
      "source": [
        "****\n"
      ]
    }
  ],
  "metadata": {
    "colab": {
      "provenance": []
    },
    "kernelspec": {
      "display_name": "test_env",
      "language": "python",
      "name": "python3"
    },
    "language_info": {
      "codemirror_mode": {
        "name": "ipython",
        "version": 3
      },
      "file_extension": ".py",
      "mimetype": "text/x-python",
      "name": "python",
      "nbconvert_exporter": "python",
      "pygments_lexer": "ipython3",
      "version": "3.10.12"
    },
    "orig_nbformat": 4,
    "vscode": {
      "interpreter": {
        "hash": "02d57c3f8a04985323a54b9ea2d63cea7457f8854231fc23c74236c29696e6d2"
      }
    }
  },
  "nbformat": 4,
  "nbformat_minor": 0
}
