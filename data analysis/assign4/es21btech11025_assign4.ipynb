{
 "cells": [
  {
   "attachments": {},
   "cell_type": "markdown",
   "metadata": {},
   "source": [
    "#### EP4130: Data Science Analysis\n",
    "\n",
    "#### Assignment 4\n",
    "\n",
    "#### Ranveer Sahu (ES21BTECH11025)\n"
   ]
  },
  {
   "attachments": {},
   "cell_type": "markdown",
   "metadata": {},
   "source": [
    "\n",
    "**Question 1**\n",
    "\n",
    "Download the data corresponding to $x , y , \\sigma_y$ given at http://www.iith.ac.in/~shantanud/testdata.dat\n",
    "\n",
    "Find the best-fit values after fitting the data to linear, quadratic, and cubic polynomials. Find out which model fits the data best from frequentist model comparison as well as using AIC and BIC. For frequentist model comparison, using the linear model as the null hypothesis, find out the p value corresponding to the preferred model. (or if the linear model is the prefered model, then compare it to the quadratic model). Also show a plot overlaying the data with best fit solutions from linear, quadratic and cubic functions with different line\n",
    "styles for each of the fits."
   ]
  },
  {
   "cell_type": "code",
   "execution_count": 331,
   "metadata": {},
   "outputs": [],
   "source": [
    "import numpy as np\n",
    "import matplotlib.pyplot as plt\n",
    "import scipy as sp\n",
    "from scipy import stats\n",
    "from scipy import optimize\n",
    "from scipy.stats import chi2,norm"
   ]
  },
  {
   "cell_type": "code",
   "execution_count": 332,
   "metadata": {},
   "outputs": [],
   "source": [
    "data = np.array([\n",
    "[0.417022004703, 0.121328306045, 0.1],\n",
    "[0.720324493442, 0.849527236006, 0.1],\n",
    "[0.000114374817345, -1.01701405804, 0.1],\n",
    "[0.302332572632, -0.391715712054, 0.1],\n",
    "[0.146755890817, -0.680729552205, 0.1],\n",
    "[0.0923385947688, -0.748514873007, 0.1],\n",
    "[0.186260211378, -0.702848628623, 0.1],\n",
    "[0.345560727043, -0.0749939588554, 0.1],\n",
    "[0.396767474231, 0.041118449128, 0.1],\n",
    "[0.538816734003, 0.418206374739, 0.1],\n",
    "[0.419194514403, 0.104198664639, 0.1],\n",
    "[0.685219500397, 0.7715919786, 0.1],\n",
    "[0.204452249732, -0.561583800669, 0.1],\n",
    "[0.878117436391, 1.43374816145, 0.1],\n",
    "[0.0273875931979, -0.971263541306, 0.1],\n",
    "[0.670467510178, 0.843497249235, 0.1],\n",
    "[0.417304802367, -0.0604131723596, 0.1],\n",
    "[0.558689828446, 0.389838628615, 0.1],\n",
    "[0.140386938595, -0.768234900293, 0.1],\n",
    "[0.198101489085, -0.649073386002, 0.1],\n",
    "])\n",
    "\n",
    "x = data[: , 0]\n",
    "y = data[: , 1]\n",
    "sigma_y= data[: , 2]"
   ]
  },
  {
   "cell_type": "code",
   "execution_count": 333,
   "metadata": {},
   "outputs": [],
   "source": [
    "def linear_fit(x , m , b):\n",
    "    return m * x + b\n",
    "\n",
    "def quadratic_fit(x , a , b , c):\n",
    "    return a * (x**2) + b * x  + c\n",
    "\n",
    "def cubic_fit(x , a , b , c , d):\n",
    "    return a * (x**3) + b * (x**2) + c * x + d"
   ]
  },
  {
   "cell_type": "code",
   "execution_count": 334,
   "metadata": {},
   "outputs": [],
   "source": [
    "def y_predict(param_opt , x ):\n",
    "    if len(param_opt) == 2:\n",
    "        return np.array([linear_fit(x_data , param_opt[0] , param_opt[1]) for x_data in x])\n",
    "    elif len(param_opt) == 3:\n",
    "        return np.array([quadratic_fit(x_data , param_opt[0] , param_opt[1] , param_opt[2]) for x_data in x])\n",
    "    elif len(param_opt) == 4:\n",
    "        return np.array([cubic_fit(x_data , param_opt[0] , param_opt[1] , param_opt[2] , param_opt[3]) for x_data in x])"
   ]
  },
  {
   "cell_type": "code",
   "execution_count": 335,
   "metadata": {},
   "outputs": [],
   "source": [
    "def chi_likelyhood(param_opt, x , y , sigma_y):\n",
    "    y_predicted = y_predict(param_opt , x )# finding the y_predicted values\n",
    "    \n",
    "    chi2 = np.sum(((y - y_predicted)**2) / (sigma_y**2))\n",
    "    dof = len(x) - len(param_opt)                     \n",
    "    return sp.stats.chi2(dof).pdf(chi2)                         "
   ]
  },
  {
   "cell_type": "code",
   "execution_count": 336,
   "metadata": {},
   "outputs": [],
   "source": [
    "def log_likelyhood(x , loc , scale):\n",
    "    return -0.5 * (np.log((2 * np.pi * scale**2)) + ((x - loc)/scale)**2)"
   ]
  },
  {
   "cell_type": "code",
   "execution_count": 337,
   "metadata": {},
   "outputs": [],
   "source": [
    "def AIC(param_opt , x , y , sigma_y):\n",
    "    # finding the y_predicted values\n",
    "    y_predicted = y_predict(param_opt , x)\n",
    "    log_likelyhoods = np.sum(np.array([log_likelyhood(y_data , y_predicted[i] , sigma_y[i]) for i , y_data in enumerate(y)]))\n",
    "    free_para = len(param_opt)\n",
    "    return -2 * log_likelyhoods + 2 * free_para # formula for AIC"
   ]
  },
  {
   "cell_type": "code",
   "execution_count": 338,
   "metadata": {},
   "outputs": [],
   "source": [
    "def BIC(param_opt , x , y , sigma_y):\n",
    "    y_predicted = y_predict(param_opt , x )\n",
    "    log_likelyhoods = np.sum(np.array([log_likelyhood(y_data , y_predicted[i] , sigma_y[i]) for i , y_data in enumerate(y)]))\n",
    "    free_para = len(param_opt)\n",
    "    return -2 * log_likelyhoods +  free_para * np.log(len(x))\n"
   ]
  },
  {
   "cell_type": "code",
   "execution_count": 339,
   "metadata": {},
   "outputs": [],
   "source": [
    "def pvalue(param_opt , param_opt_wrt , x , y , sigma_y):\n",
    "    # finding the difference in chi square likelyhoods for both models\n",
    "    chi_diff = chi_likelyhood(param_opt_wrt , x , y , sigma_y) - chi_likelyhood(param_opt , x , y , sigma_y)\n",
    "    dof = np.abs(len(param_opt) - len(param_opt_wrt))\n",
    "    return 1 - sp.stats.chi2(dof).cdf(chi_diff)     # finding the pvalue"
   ]
  },
  {
   "cell_type": "code",
   "execution_count": 340,
   "metadata": {},
   "outputs": [
    {
     "name": "stdout",
     "output_type": "stream",
     "text": [
      "The best fit value for linear model is [ 2.79789861 -1.11028082]\n",
      "The best fit value for Quadratic model is [ 0.50261293  2.38475187 -1.05578915]\n",
      "The best fit value for cubic model is [-0.9672499   1.74451328  1.97184058 -1.02910463]\n"
     ]
    }
   ],
   "source": [
    "from scipy.optimize import curve_fit\n",
    "\n",
    "opt_lin_param , _ = curve_fit(linear_fit , x , y , sigma = sigma_y)\n",
    "opt_quad_param , _ = curve_fit(quadratic_fit , x , y , sigma = sigma_y)\n",
    "opt_cub_param , _ = curve_fit(cubic_fit , x , y , sigma = sigma_y)\n",
    "\n",
    "print(\"The best fit value for linear model is {}\".format(opt_lin_param))\n",
    "print(\"The best fit value for Quadratic model is {}\".format(opt_quad_param))\n",
    "print(\"The best fit value for cubic model is {}\".format(opt_cub_param))"
   ]
  },
  {
   "cell_type": "markdown",
   "metadata": {},
   "source": [
    "**Chi-square likelyhoods**"
   ]
  },
  {
   "cell_type": "code",
   "execution_count": 341,
   "metadata": {},
   "outputs": [
    {
     "name": "stdout",
     "output_type": "stream",
     "text": [
      "The chi-square likelyhood for the linear fit is 0.0453837955859186\n",
      "The chi-square likelyhood for the quadratic fit is 0.036608447550140234\n",
      "The chi-square likelyhood for the cubic fit is 0.04215280601006016\n"
     ]
    }
   ],
   "source": [
    "print(\"The chi-square likelyhood for the linear fit is {}\".format(chi_likelyhood(opt_lin_param , x , y , sigma_y)))\n",
    "print(\"The chi-square likelyhood for the quadratic fit is {}\".format(chi_likelyhood(opt_quad_param , x , y , sigma_y)))\n",
    "print(\"The chi-square likelyhood for the cubic fit is {}\".format(chi_likelyhood(opt_cub_param , x , y , sigma_y)))"
   ]
  },
  {
   "cell_type": "markdown",
   "metadata": {},
   "source": [
    "Since the likelyhood of seeing the data given the linear model is maximum, the linear model is favoured."
   ]
  },
  {
   "cell_type": "markdown",
   "metadata": {},
   "source": [
    "**AIC and BIC values**"
   ]
  },
  {
   "cell_type": "code",
   "execution_count": 342,
   "metadata": {},
   "outputs": [
    {
     "name": "stdout",
     "output_type": "stream",
     "text": [
      "AIC value(linear fit) is -40.03668681607269\n",
      "AIC value(quadratic fit) is -39.849820624005616\n",
      "AIC value(cubic fit) is -38.260818517602544\n",
      "\n",
      "\n",
      "BIC value (linear fit) is -38.04522226896471\n",
      "BIC value (quadratic fit) is -36.862623803343645\n",
      "BIC value (cubic fit) is -34.27788942338658\n"
     ]
    }
   ],
   "source": [
    "\n",
    "print(\"AIC value(linear fit) is {}\".format(AIC(opt_lin_param , x , y , sigma_y)))\n",
    "print(\"AIC value(quadratic fit) is {}\".format(AIC(opt_quad_param , x , y , sigma_y)))\n",
    "print(\"AIC value(cubic fit) is {}\".format(AIC(opt_cub_param , x , y , sigma_y)))\n",
    "print(\"\\n\")\n",
    "print(\"BIC value (linear fit) is {}\".format(BIC(opt_lin_param , x , y , sigma_y)))\n",
    "print(\"BIC value (quadratic fit) is {}\".format(BIC(opt_quad_param , x , y , sigma_y)))\n",
    "print(\"BIC value (cubic fit) is {}\".format(BIC(opt_cub_param , x , y , sigma_y)))"
   ]
  },
  {
   "cell_type": "markdown",
   "metadata": {},
   "source": [
    "minimum AIC and BIC values point to the linear model."
   ]
  },
  {
   "cell_type": "markdown",
   "metadata": {},
   "source": [
    "**for linear = NULL Hypothesis & find the p-values for quadratic and cubic models**"
   ]
  },
  {
   "cell_type": "code",
   "execution_count": 343,
   "metadata": {},
   "outputs": [
    {
     "name": "stdout",
     "output_type": "stream",
     "text": [
      "p-value of the quadratic model wrt linear model is 0.9253658781854517\n",
      "p-value of the cubic model wrt linear model is 0.9983858094213667\n"
     ]
    }
   ],
   "source": [
    "print(\"p-value of the quadratic model wrt linear model is {}\".format(pvalue(opt_quad_param , opt_lin_param , x , y , sigma_y)))\n",
    "print(\"p-value of the cubic model wrt linear model is {}\".format(pvalue(opt_cub_param , opt_lin_param , x , y , sigma_y)))"
   ]
  },
  {
   "cell_type": "markdown",
   "metadata": {},
   "source": [
    "The high values mean the models are very similar."
   ]
  },
  {
   "cell_type": "markdown",
   "metadata": {},
   "source": [
    "**PLOTS**"
   ]
  },
  {
   "cell_type": "code",
   "execution_count": 344,
   "metadata": {},
   "outputs": [
    {
     "data": {
      "image/png": "[encoded data removed]",
      "text/plain": [
       "<Figure size 640x480 with 1 Axes>"
      ]
     },
     "metadata": {},
     "output_type": "display_data"
    }
   ],
   "source": [
    "x_plot = np.linspace(0, 1, 2500)\n",
    "plt.plot(x_plot , y_predict(opt_lin_param , x_plot) , 'r-',label = \"Linear fit\")\n",
    "plt.plot(x_plot , y_predict(opt_quad_param , x_plot) , 'b--' , linewidth = 2 ,label = \"Quadratic fit\")\n",
    "plt.plot(x_plot , y_predict(opt_cub_param , x_plot) , 'g-.',label = \"Cubic fit\")\n",
    "plt.errorbar(x, y, yerr = sigma_y , fmt = 'ko', ecolor = 'gray' , capsize = 7)\n",
    "plt.grid()\n",
    "plt.xlabel(\"x\")\n",
    "plt.ylabel(\"y\")\n",
    "plt.title(\"the best-fit Linear, Quadratic and Cubic models for given set of data\")\n",
    "plt.legend()\n",
    "plt.show()"
   ]
  },
  {
   "attachments": {},
   "cell_type": "markdown",
   "metadata": {},
   "source": [
    "**Question 2**\n",
    "For the model comparison problem shown in class on JVDP’s blog, calculate AIC and BIC for the linear and quadratic models. Do these results agree with the frequentist model comparison results shown on the blog? Also mention the qualitative significance using strengt of evidence rules.\n",
    "\n",
    "Link : http://jakevdp.github.io/blog/2015/08/07/frequentism-and-bayesianism-5-model-selection/"
   ]
  },
  {
   "cell_type": "code",
   "execution_count": 345,
   "metadata": {},
   "outputs": [],
   "source": [
    "# data from JDVP\n",
    "\n",
    "data = np.array([[ 0.42,  0.72,  0.  ,  0.3 ,  0.15,\n",
    "                   0.09,  0.19,  0.35,  0.4 ,  0.54,\n",
    "                   0.42,  0.69,  0.2 ,  0.88,  0.03,\n",
    "                   0.67,  0.42,  0.56,  0.14,  0.2  ],\n",
    "                 [ 0.33,  0.41, -0.22,  0.01, -0.05,\n",
    "                  -0.05, -0.12,  0.26,  0.29,  0.39, \n",
    "                   0.31,  0.42, -0.01,  0.58, -0.2 ,\n",
    "                   0.52,  0.15,  0.32, -0.13, -0.09 ],\n",
    "                 [ 0.1 ,  0.1 ,  0.1 ,  0.1 ,  0.1 ,\n",
    "                   0.1 ,  0.1 ,  0.1 ,  0.1 ,  0.1 ,\n",
    "                   0.1 ,  0.1 ,  0.1 ,  0.1 ,  0.1 ,\n",
    "                   0.1 ,  0.1 ,  0.1 ,  0.1 ,  0.1  ]])\n",
    "x, y, sigma_y = data"
   ]
  },
  {
   "cell_type": "code",
   "execution_count": 346,
   "metadata": {},
   "outputs": [],
   "source": [
    "opt_linear_param , _ = sp.optimize.curve_fit(linear_fit , x , y , sigma = sigma_y)\n",
    "opt_quadratic_param , _ = sp.optimize.curve_fit(quadratic_fit , x , y , sigma = sigma_y)"
   ]
  },
  {
   "cell_type": "markdown",
   "metadata": {},
   "source": [
    "**finding the AIC and BIC**"
   ]
  },
  {
   "cell_type": "code",
   "execution_count": 347,
   "metadata": {},
   "outputs": [
    {
     "name": "stdout",
     "output_type": "stream",
     "text": [
      "AIC value for (linear fit) is -40.02173401322526\n",
      "AIC value for (quadratic fit) is -39.883027173008216\n",
      "\n",
      "\n",
      "BIC value for (linear fit) is -38.03026946611728\n",
      "BIC value for (quadratic fit) is -36.895830352346245\n"
     ]
    }
   ],
   "source": [
    "print(\"AIC value for (linear fit) is {}\".format(AIC(opt_linear_param , x , y , sigma_y)))\n",
    "print(\"AIC value for (quadratic fit) is {}\".format(AIC(opt_quadratic_param , x , y , sigma_y)))\n",
    "print(\"\\n\")\n",
    "print(\"BIC value for (linear fit) is {}\".format(BIC(opt_linear_param , x , y , sigma_y)))\n",
    "print(\"BIC value for (quadratic fit) is {}\".format(BIC(opt_quadratic_param , x , y , sigma_y)))"
   ]
  },
  {
   "cell_type": "markdown",
   "metadata": {},
   "source": [
    "Both the AIC and BIC values agree with the linear model, which validates JVDP's blog."
   ]
  },
  {
   "cell_type": "code",
   "execution_count": 348,
   "metadata": {},
   "outputs": [
    {
     "name": "stdout",
     "output_type": "stream",
     "text": [
      "According to the strength of the evidence, delta_AIC = 0.13870684021704704 and delta_BIC = 1.1344391137710375, which says the quadratic model is not very favoured.\n"
     ]
    }
   ],
   "source": [
    "print(\"According to the strength of the evidence, delta_AIC = {} and delta_BIC = {}, which says the quadratic model is not very favoured.\".\\\n",
    "    format(AIC(opt_quadratic_param , x , y , sigma_y) - AIC(opt_linear_param , x , y , sigma_y) , \\\n",
    "        BIC(opt_quadratic_param , x , y , sigma_y) - BIC(opt_linear_param , x , y , sigma_y)))"
   ]
  },
  {
   "attachments": {},
   "cell_type": "markdown",
   "metadata": {},
   "source": [
    "**Question 3**\n",
    "\n",
    "Find out one paper in research literature which uses the Kolmogorov Smirnov test and explain briefly how it was used in that paper. Is K-S test used incorrectly (in this paper) as per the warnings on the Penn State website discussed in class?\n",
    "\n",
    "Answer:\n",
    "\n",
    "https://arxiv.org/pdf/2211.00578.pdf\n",
    "\n",
    "The paper uses both the one-sample and two-sample KS tests. The one-sample KS test is used to figure out if the uncertanities in the Hubble constant can be modeled using a Gaussian Distribution. This does not violate the Penn State University warning as the constant is a one dimensional sample. Moreover, they also use the two-sample KS test to find which of the anchor galaxies are different from the others, if any, and use the results to improvise on their results.\n",
    "\n",
    "In the paper by by N.D. Gagunashvili, on the comparison of weighted and unweighted histograms where it is being discussed that, that how X^2 test are used for histograms for different events, the K.S. test for histograms about different statistics of event.\n",
    "\n",
    "another reference:\n",
    "Gagunashvili N 2006 Comparison of weighted and unweighted histograms arXiv: physics/0605123"
   ]
  },
  {
   "attachments": {},
   "cell_type": "markdown",
   "metadata": {},
   "source": [
    "**Question 4**\n",
    "\n",
    "Calculate the significance in terms of no of sigmas of the Higgs boson\n",
    "discovery claim from the p value given in the abstract of the ATLAS\n",
    "discovery paper, arXiv:1207.7214.\n",
    "\n",
    "\n",
    "Do the same for the LIGO discovery of GW150914, for which the p\n",
    "value = 2 × $10^{-7}$\n",
    "\n",
    "\n",
    "From the Super-K discovery paper for neutrino oscillations (hep-\n",
    "ex/9807003), calculate the $\\chi^2$ GOF using the best-fit $\\nu_\\mu \\leftrightarrow \\nu_\\tau$  oscillation solution."
   ]
  },
  {
   "cell_type": "code",
   "execution_count": 349,
   "metadata": {},
   "outputs": [],
   "source": [
    "\n",
    "hgs_pval = [10**-1, 10**-2, 10**-3, 10**-5, 10**-7, 10**-9]\n",
    "hgs_sign = norm.isf(hgs_pval)\n"
   ]
  },
  {
   "cell_type": "code",
   "execution_count": 350,
   "metadata": {},
   "outputs": [],
   "source": [
    "\n",
    "p_val_ligo = 2*10**-7\n",
    "sign_ligo = norm.isf(p_val_ligo)\n"
   ]
  },
  {
   "cell_type": "code",
   "execution_count": 351,
   "metadata": {},
   "outputs": [
    {
     "name": "stdout",
     "output_type": "stream",
     "text": [
      "Significance in terms of no. of sigmas for higgs boson:  [1.28155157 2.32634787 3.09023231 4.26489079 5.19933758 5.99780702]\n",
      "Significance in terms of no. of sigmas for LIGO discovery:  5.068957749717791\n"
     ]
    }
   ],
   "source": [
    "\n",
    "# print\n",
    "print('Significance in terms of no. of sigmas for higgs boson: ', hgs_sign)\n",
    "print('Significance in terms of no. of sigmas for LIGO discovery: ', sign_ligo)\n"
   ]
  },
  {
   "cell_type": "code",
   "execution_count": 352,
   "metadata": {},
   "outputs": [],
   "source": [
    "chi_square = 65.2\n",
    "dof = 67\n",
    "chi_square_gof = 1-chi2(dof).cdf(chi_square)"
   ]
  },
  {
   "cell_type": "code",
   "execution_count": 353,
   "metadata": {},
   "outputs": [
    {
     "name": "stdout",
     "output_type": "stream",
     "text": [
      "chi-square GOF is:  0.5394901931099038\n"
     ]
    }
   ],
   "source": [
    "print('chi-square GOF is: ', chi_square_gof)"
   ]
  }
 ],
 "metadata": {
  "kernelspec": {
   "display_name": "test_env",
   "language": "python",
   "name": "python3"
  },
  "language_info": {
   "codemirror_mode": {
    "name": "ipython",
    "version": 3
   },
   "file_extension": ".py",
   "mimetype": "text/x-python",
   "name": "python",
   "nbconvert_exporter": "python",
   "pygments_lexer": "ipython3",
   "version": "3.10.12"
  },
  "orig_nbformat": 4,
  "vscode": {
   "interpreter": {
    "hash": "02d57c3f8a04985323a54b9ea2d63cea7457f8854231fc23c74236c29696e6d2"
   }
  }
 },
 "nbformat": 4,
 "nbformat_minor": 2
}
