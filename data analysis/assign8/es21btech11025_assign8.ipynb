{
 "cells": [
  {
   "attachments": {},
   "cell_type": "markdown",
   "metadata": {},
   "source": [
    "#### EP4130: Data Science Analysis\n",
    "\n",
    "#### Assignment: 8\n",
    "\n",
    "#### Ranveer Sahu (ES21BTECH11025)"
   ]
  },
  {
   "cell_type": "markdown",
   "metadata": {},
   "source": [
    "*****"
   ]
  },
  {
   "cell_type": "code",
   "execution_count": 1,
   "metadata": {},
   "outputs": [],
   "source": [
    "import pandas as pd\n",
    "import numpy as np\n",
    "import matplotlib.pyplot as plt\n",
    "from astroML.correlation import bootstrap_two_point_angular"
   ]
  },
  {
   "cell_type": "markdown",
   "metadata": {},
   "source": [
    "*****"
   ]
  },
  {
   "attachments": {},
   "cell_type": "markdown",
   "metadata": {},
   "source": [
    "**Question 1**\n",
    "\n",
    "Calculate the angular two-point correlation function of galaxies (including errors obtained by 10 bootstrap resamples) using subset of data from the Blanco Cosmology Survey with r-band magnitude between 17 and 20, and using 16 logarithmic-spaced angular bins from 1/60◦ to 1◦ . Use a linear scale for Y-axis. Galaxies in Blanco Cosmology Survey have spread model> 0.002. This data can be downloaded from http://www.iith.ac.in/~shantanud/BCS05hr_reduced.txt (30 points)(Hint : Look at the astroML source code for Figure 6.17)"
   ]
  },
  {
   "cell_type": "code",
   "execution_count": 2,
   "metadata": {},
   "outputs": [
    {
     "data": {
      "text/html": [
       "<div>\n",
       "<style scoped>\n",
       "    .dataframe tbody tr th:only-of-type {\n",
       "        vertical-align: middle;\n",
       "    }\n",
       "\n",
       "    .dataframe tbody tr th {\n",
       "        vertical-align: top;\n",
       "    }\n",
       "\n",
       "    .dataframe thead th {\n",
       "        text-align: right;\n",
       "    }\n",
       "</style>\n",
       "<table border=\"1\" class=\"dataframe\">\n",
       "  <thead>\n",
       "    <tr style=\"text-align: right;\">\n",
       "      <th></th>\n",
       "      <th>#RA</th>\n",
       "      <th>DEC</th>\n",
       "      <th>r-mag</th>\n",
       "      <th>spread_model</th>\n",
       "      <th>spread_model_err</th>\n",
       "    </tr>\n",
       "  </thead>\n",
       "  <tbody>\n",
       "    <tr>\n",
       "      <th>0</th>\n",
       "      <td>76.709724</td>\n",
       "      <td>-56.091484</td>\n",
       "      <td>22.2622</td>\n",
       "      <td>0.113884</td>\n",
       "      <td>0.002812</td>\n",
       "    </tr>\n",
       "    <tr>\n",
       "      <th>1</th>\n",
       "      <td>77.430664</td>\n",
       "      <td>-56.090149</td>\n",
       "      <td>23.8355</td>\n",
       "      <td>0.186889</td>\n",
       "      <td>0.003559</td>\n",
       "    </tr>\n",
       "    <tr>\n",
       "      <th>2</th>\n",
       "      <td>76.937309</td>\n",
       "      <td>-56.092442</td>\n",
       "      <td>17.7021</td>\n",
       "      <td>0.000614</td>\n",
       "      <td>0.000120</td>\n",
       "    </tr>\n",
       "    <tr>\n",
       "      <th>3</th>\n",
       "      <td>77.344833</td>\n",
       "      <td>-56.089947</td>\n",
       "      <td>23.7293</td>\n",
       "      <td>0.117396</td>\n",
       "      <td>0.000751</td>\n",
       "    </tr>\n",
       "    <tr>\n",
       "      <th>4</th>\n",
       "      <td>77.416412</td>\n",
       "      <td>-56.089119</td>\n",
       "      <td>23.4456</td>\n",
       "      <td>0.192760</td>\n",
       "      <td>0.004764</td>\n",
       "    </tr>\n",
       "    <tr>\n",
       "      <th>...</th>\n",
       "      <td>...</td>\n",
       "      <td>...</td>\n",
       "      <td>...</td>\n",
       "      <td>...</td>\n",
       "      <td>...</td>\n",
       "    </tr>\n",
       "    <tr>\n",
       "      <th>49995</th>\n",
       "      <td>77.138313</td>\n",
       "      <td>-53.850994</td>\n",
       "      <td>16.4224</td>\n",
       "      <td>0.000928</td>\n",
       "      <td>0.004025</td>\n",
       "    </tr>\n",
       "    <tr>\n",
       "      <th>49996</th>\n",
       "      <td>76.861160</td>\n",
       "      <td>-53.846672</td>\n",
       "      <td>22.1385</td>\n",
       "      <td>0.076647</td>\n",
       "      <td>0.018807</td>\n",
       "    </tr>\n",
       "    <tr>\n",
       "      <th>49997</th>\n",
       "      <td>76.892189</td>\n",
       "      <td>-53.855347</td>\n",
       "      <td>20.5829</td>\n",
       "      <td>0.013071</td>\n",
       "      <td>-0.001716</td>\n",
       "    </tr>\n",
       "    <tr>\n",
       "      <th>49998</th>\n",
       "      <td>77.500732</td>\n",
       "      <td>-53.853760</td>\n",
       "      <td>20.7490</td>\n",
       "      <td>0.017413</td>\n",
       "      <td>-0.000761</td>\n",
       "    </tr>\n",
       "    <tr>\n",
       "      <th>49999</th>\n",
       "      <td>77.139778</td>\n",
       "      <td>-53.854607</td>\n",
       "      <td>21.6471</td>\n",
       "      <td>0.038710</td>\n",
       "      <td>0.059438</td>\n",
       "    </tr>\n",
       "  </tbody>\n",
       "</table>\n",
       "<p>50000 rows × 5 columns</p>\n",
       "</div>"
      ],
      "text/plain": [
       "             #RA        DEC    r-mag  spread_model  spread_model_err\n",
       "0      76.709724 -56.091484  22.2622      0.113884          0.002812\n",
       "1      77.430664 -56.090149  23.8355      0.186889          0.003559\n",
       "2      76.937309 -56.092442  17.7021      0.000614          0.000120\n",
       "3      77.344833 -56.089947  23.7293      0.117396          0.000751\n",
       "4      77.416412 -56.089119  23.4456      0.192760          0.004764\n",
       "...          ...        ...      ...           ...               ...\n",
       "49995  77.138313 -53.850994  16.4224      0.000928          0.004025\n",
       "49996  76.861160 -53.846672  22.1385      0.076647          0.018807\n",
       "49997  76.892189 -53.855347  20.5829      0.013071         -0.001716\n",
       "49998  77.500732 -53.853760  20.7490      0.017413         -0.000761\n",
       "49999  77.139778 -53.854607  21.6471      0.038710          0.059438\n",
       "\n",
       "[50000 rows x 5 columns]"
      ]
     },
     "execution_count": 2,
     "metadata": {},
     "output_type": "execute_result"
    }
   ],
   "source": [
    "#Data read\n",
    "file_data = pd.read_csv(\"q1.csv\" , sep = ' ')\n",
    "file_data"
   ]
  },
  {
   "cell_type": "code",
   "execution_count": 3,
   "metadata": {},
   "outputs": [
    {
     "data": {
      "text/html": [
       "<div>\n",
       "<style scoped>\n",
       "    .dataframe tbody tr th:only-of-type {\n",
       "        vertical-align: middle;\n",
       "    }\n",
       "\n",
       "    .dataframe tbody tr th {\n",
       "        vertical-align: top;\n",
       "    }\n",
       "\n",
       "    .dataframe thead th {\n",
       "        text-align: right;\n",
       "    }\n",
       "</style>\n",
       "<table border=\"1\" class=\"dataframe\">\n",
       "  <thead>\n",
       "    <tr style=\"text-align: right;\">\n",
       "      <th></th>\n",
       "      <th>#RA</th>\n",
       "      <th>DEC</th>\n",
       "      <th>r-mag</th>\n",
       "      <th>spread_model</th>\n",
       "      <th>spread_model_err</th>\n",
       "    </tr>\n",
       "  </thead>\n",
       "  <tbody>\n",
       "    <tr>\n",
       "      <th>16</th>\n",
       "      <td>77.039696</td>\n",
       "      <td>-56.084904</td>\n",
       "      <td>19.9448</td>\n",
       "      <td>0.008856</td>\n",
       "      <td>0.000064</td>\n",
       "    </tr>\n",
       "    <tr>\n",
       "      <th>38</th>\n",
       "      <td>77.119270</td>\n",
       "      <td>-56.108150</td>\n",
       "      <td>19.6127</td>\n",
       "      <td>0.006623</td>\n",
       "      <td>-0.000183</td>\n",
       "    </tr>\n",
       "    <tr>\n",
       "      <th>43</th>\n",
       "      <td>76.676086</td>\n",
       "      <td>-56.106075</td>\n",
       "      <td>18.8138</td>\n",
       "      <td>0.002451</td>\n",
       "      <td>0.000430</td>\n",
       "    </tr>\n",
       "    <tr>\n",
       "      <th>151</th>\n",
       "      <td>77.118393</td>\n",
       "      <td>-56.084389</td>\n",
       "      <td>19.7339</td>\n",
       "      <td>0.009028</td>\n",
       "      <td>0.020733</td>\n",
       "    </tr>\n",
       "    <tr>\n",
       "      <th>153</th>\n",
       "      <td>76.823029</td>\n",
       "      <td>-56.082844</td>\n",
       "      <td>19.8468</td>\n",
       "      <td>1.937630</td>\n",
       "      <td>0.019814</td>\n",
       "    </tr>\n",
       "    <tr>\n",
       "      <th>...</th>\n",
       "      <td>...</td>\n",
       "      <td>...</td>\n",
       "      <td>...</td>\n",
       "      <td>...</td>\n",
       "      <td>...</td>\n",
       "    </tr>\n",
       "    <tr>\n",
       "      <th>49924</th>\n",
       "      <td>77.387482</td>\n",
       "      <td>-53.855377</td>\n",
       "      <td>19.8971</td>\n",
       "      <td>0.010697</td>\n",
       "      <td>-0.000017</td>\n",
       "    </tr>\n",
       "    <tr>\n",
       "      <th>49935</th>\n",
       "      <td>76.962509</td>\n",
       "      <td>-53.848270</td>\n",
       "      <td>19.8635</td>\n",
       "      <td>0.003855</td>\n",
       "      <td>-0.001900</td>\n",
       "    </tr>\n",
       "    <tr>\n",
       "      <th>49962</th>\n",
       "      <td>77.199036</td>\n",
       "      <td>-53.847679</td>\n",
       "      <td>19.6593</td>\n",
       "      <td>4.073760</td>\n",
       "      <td>0.017146</td>\n",
       "    </tr>\n",
       "    <tr>\n",
       "      <th>49969</th>\n",
       "      <td>77.251816</td>\n",
       "      <td>-53.856327</td>\n",
       "      <td>18.7764</td>\n",
       "      <td>0.435740</td>\n",
       "      <td>0.023601</td>\n",
       "    </tr>\n",
       "    <tr>\n",
       "      <th>49994</th>\n",
       "      <td>77.518555</td>\n",
       "      <td>-53.847065</td>\n",
       "      <td>18.8786</td>\n",
       "      <td>0.008526</td>\n",
       "      <td>0.022541</td>\n",
       "    </tr>\n",
       "  </tbody>\n",
       "</table>\n",
       "<p>2707 rows × 5 columns</p>\n",
       "</div>"
      ],
      "text/plain": [
       "             #RA        DEC    r-mag  spread_model  spread_model_err\n",
       "16     77.039696 -56.084904  19.9448      0.008856          0.000064\n",
       "38     77.119270 -56.108150  19.6127      0.006623         -0.000183\n",
       "43     76.676086 -56.106075  18.8138      0.002451          0.000430\n",
       "151    77.118393 -56.084389  19.7339      0.009028          0.020733\n",
       "153    76.823029 -56.082844  19.8468      1.937630          0.019814\n",
       "...          ...        ...      ...           ...               ...\n",
       "49924  77.387482 -53.855377  19.8971      0.010697         -0.000017\n",
       "49935  76.962509 -53.848270  19.8635      0.003855         -0.001900\n",
       "49962  77.199036 -53.847679  19.6593      4.073760          0.017146\n",
       "49969  77.251816 -53.856327  18.7764      0.435740          0.023601\n",
       "49994  77.518555 -53.847065  18.8786      0.008526          0.022541\n",
       "\n",
       "[2707 rows x 5 columns]"
      ]
     },
     "execution_count": 3,
     "metadata": {},
     "output_type": "execute_result"
    }
   ],
   "source": [
    "#Filter applied\n",
    "condition1 = file_data['spread_model']>0.002\n",
    "condition2 = (file_data['r-mag'] > 17) & (file_data['r-mag'] < 20)\n",
    "\n",
    "blanco = file_data[condition1 & condition2]\n",
    "blanco"
   ]
  },
  {
   "cell_type": "code",
   "execution_count": 4,
   "metadata": {},
   "outputs": [],
   "source": [
    "#Define angular bin\n",
    "bins = 10 ** np.linspace(np.log10(1.0/60) , np.log10(1) , 16)\n",
    "results = [bins]"
   ]
  },
  {
   "cell_type": "code",
   "execution_count": 5,
   "metadata": {},
   "outputs": [],
   "source": [
    "#compute correlation function\n",
    "results += bootstrap_two_point_angular(blanco[\"#RA\"] , blanco[\"DEC\"] , bins = bins \\\n",
    ", method = \"landy-szalay\" , Nbootstraps = 10)"
   ]
  },
  {
   "cell_type": "code",
   "execution_count": 6,
   "metadata": {},
   "outputs": [],
   "source": [
    "#Extract bin centers, correlation function, correlation functions error, and bootstrap results\n",
    "bins , corr ,  corr_err , bootstrap = results\n",
    "bin_centers = (bins[:-1] + bins[1:]) / 2"
   ]
  },
  {
   "cell_type": "code",
   "execution_count": 7,
   "metadata": {},
   "outputs": [
    {
     "data": {
      "image/png": "[encoded data removed]",
      "text/plain": [
       "<Figure size 800x800 with 1 Axes>"
      ]
     },
     "metadata": {},
     "output_type": "display_data"
    }
   ],
   "source": [
    "#ploting \n",
    "plt.figure(figsize = (8,8))\n",
    "plt.xscale('log')\n",
    "plt.yscale('linear')\n",
    "plt.grid(True)\n",
    "plt.errorbar(bin_centers , corr , yerr = corr_err , fmt = 'o' , color = 'g')\n",
    "plt.title(\"Two-point Angular Correlation Function of Galaxies\")\n",
    "plt.xlabel(\"RA\")\n",
    "plt.ylabel(\"DEC\")\n",
    "plt.show()"
   ]
  },
  {
   "cell_type": "markdown",
   "metadata": {},
   "source": [
    "*****"
   ]
  }
 ],
 "metadata": {
  "kernelspec": {
   "display_name": "test_env",
   "language": "python",
   "name": "python3"
  },
  "language_info": {
   "codemirror_mode": {
    "name": "ipython",
    "version": 3
   },
   "file_extension": ".py",
   "mimetype": "text/x-python",
   "name": "python",
   "nbconvert_exporter": "python",
   "pygments_lexer": "ipython3",
   "version": "3.10.12"
  },
  "orig_nbformat": 4,
  "vscode": {
   "interpreter": {
    "hash": "02d57c3f8a04985323a54b9ea2d63cea7457f8854231fc23c74236c29696e6d2"
   }
  }
 },
 "nbformat": 4,
 "nbformat_minor": 2
}
