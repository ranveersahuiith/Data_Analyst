{
  "cells": [
    {
      "cell_type": "markdown",
      "metadata": {
        "id": "X1Q9sbFx1W3I"
      },
      "source": [
        "#### EP4130: Data Science Analysis\n",
        "\n",
        "#### Final - Quiz 3\n",
        "\n",
        "#### Ranveer Sahu- ES21BTECH11025"
      ]
    },
    {
      "cell_type": "code",
      "execution_count": 23,
      "metadata": {
        "id": "v9wywqKK1W3L"
      },
      "outputs": [],
      "source": [
        "import numpy as np\n",
        "import matplotlib.pyplot as plt\n",
        "import scipy as sp"
      ]
    },
    {
      "cell_type": "markdown",
      "source": [
        "**Q1**\n",
        "The p-value of an experiment looking for a new particle is 2.3 × 10−6 .What is the Z-score?"
      ],
      "metadata": {
        "id": "_j4SW8Ug8Pm0"
      }
    },
    {
      "cell_type": "code",
      "source": [
        "from scipy.stats import norm\n",
        "#assumption is particle 2-tailed\n",
        "p_value = 2.3e-6\n",
        "#taking inverse to find z_score\n",
        "z_score = norm.ppf(1 - p_value/2)  # z_score from p_value\n",
        "\n",
        "print(\"Z-score:\", z_score)\n"
      ],
      "metadata": {
        "colab": {
          "base_uri": "https://localhost:8080/"
        },
        "id": "4hUrzyis95XX",
        "outputId": "9544fa42-f5fb-498e-b8bb-1b929ff7e2e1"
      },
      "execution_count": 24,
      "outputs": [
        {
          "output_type": "stream",
          "name": "stdout",
          "text": [
            "Z-score: 4.725101895193788\n"
          ]
        }
      ]
    },
    {
      "cell_type": "markdown",
      "metadata": {
        "id": "xKHOEiuW1W3N"
      },
      "source": [
        "**Q2**\n",
        "\n",
        "What values of constant ∆χ2 contours should be used for a model with 4 free parameters, 10 data points, if we want to get 80% confidence intervals?\n",
        "[2 pts]"
      ]
    },
    {
      "cell_type": "markdown",
      "metadata": {
        "id": "Z5tmaSss1W3O"
      },
      "source": [
        "Answer:\n",
        "\n",
        "$\\Delta \\chi^2 $ is distributed with #free params degree of freedoms. Thus, we require $\\Delta \\chi^2$ such that\n",
        "\n",
        "$\\Pr(\\chi^2 < \\Delta \\chi^2 , \\#\\text{free params}) = p\\%$"
      ]
    },
    {
      "cell_type": "code",
      "execution_count": 25,
      "metadata": {
        "colab": {
          "base_uri": "https://localhost:8080/"
        },
        "id": "N9Dww4aF1W3O",
        "outputId": "41cd1ee7-0c7f-4fb1-c23c-60db9539a433"
      },
      "outputs": [
        {
          "output_type": "stream",
          "name": "stdout",
          "text": [
            "The constant countour value is 5.989\n"
          ]
        }
      ],
      "source": [
        "dof = 4\n",
        "confidence_percentage = 0.80\n",
        "print(\"The constant countour value is {:.3f}\".format(sp.stats.chi2(dof).ppf(confidence_percentage)))"
      ]
    },
    {
      "cell_type": "markdown",
      "metadata": {
        "id": "2o7Rqsyq1W3O"
      },
      "source": [
        "**Q3**\n",
        "\n",
        "Two models (A and B) have reduced χ2 of 1.4 and 0.7 for 6 and 8 number\n",
        "of free parameters, respectively. Calculate ∆ BIC between Model A and\n",
        "model B. Assume both models have been contain 10 data points."
      ]
    },
    {
      "cell_type": "code",
      "execution_count": 26,
      "metadata": {
        "colab": {
          "base_uri": "https://localhost:8080/"
        },
        "id": "8mJACerN1W3O",
        "outputId": "1cb73f9f-ef47-4960-d43f-049ff0d8d058"
      },
      "outputs": [
        {
          "output_type": "stream",
          "name": "stdout",
          "text": [
            "The difference in BIC of model A and model B is 7.377758908227875\n"
          ]
        }
      ],
      "source": [
        "# BIC = -2 ln(L) + M ln(N)\n",
        "\n",
        "M1 = 6\n",
        "M2 = 8\n",
        "\n",
        "likelihood1 = 1.4 * (10 - 6)\n",
        "likelihood2 = 0.7 * (10 - 8)\n",
        "\n",
        "def BIC(likelihood , N  , M):\n",
        "    return -2 * np.log(likelihood) + M * np.log(N)\n",
        "\n",
        "BIC1 = BIC(likelihood1 , 10 , 6)\n",
        "BIC2 = BIC(likelihood2 , 10 , 8)\n",
        "\n",
        "print(\"The difference in BIC of model A and model B is {}\".format(np.abs(BIC1 - BIC2)))"
      ]
    },
    {
      "cell_type": "markdown",
      "source": [
        "**Q4** Write down the subroutine for Nested sampling using Dynesty for a model\n",
        "with two free parameters θ1 and θ2 with uniform priors for both of them\n",
        "given by θ1 ∈ U[−10, 5] and θ2 ∈ U[0, 20] respectively."
      ],
      "metadata": {
        "id": "TKbesa7TA6el"
      }
    },
    {
      "cell_type": "code",
      "source": [
        "pip install dynesty"
      ],
      "metadata": {
        "colab": {
          "base_uri": "https://localhost:8080/"
        },
        "id": "2XPqH9RmCX6k",
        "outputId": "2d81d55a-c074-4d43-9b07-b8ceb22f8c89"
      },
      "execution_count": 27,
      "outputs": [
        {
          "output_type": "stream",
          "name": "stdout",
          "text": [
            "Requirement already satisfied: dynesty in /usr/local/lib/python3.10/dist-packages (2.1.3)\n"
          ]
        }
      ]
    },
    {
      "cell_type": "code",
      "source": [
        "#installing necessary\n",
        "import dynesty"
      ],
      "metadata": {
        "id": "gxtqf74gBdcm"
      },
      "execution_count": 28,
      "outputs": []
    },
    {
      "cell_type": "code",
      "source": [
        "def log_prior(theta):\n",
        "\n",
        "    theta1, theta2 = theta\n",
        "    if -10 <= theta1 <= 5 and 0 <= theta2 <= 20:\n",
        "        return 0.0  # log(1) = 0 because parameters are within prior bounds\n",
        "    else:\n",
        "        return -np.inf  # log(0) = -inf because parameters are outside prior bounds\n"
      ],
      "metadata": {
        "id": "h4kpYRD-A689"
      },
      "execution_count": 29,
      "outputs": []
    }
  ],
  "metadata": {
    "kernelspec": {
      "display_name": "test_env",
      "language": "python",
      "name": "python3"
    },
    "language_info": {
      "codemirror_mode": {
        "name": "ipython",
        "version": 3
      },
      "file_extension": ".py",
      "mimetype": "text/x-python",
      "name": "python",
      "nbconvert_exporter": "python",
      "pygments_lexer": "ipython3",
      "version": "3.9.13"
    },
    "orig_nbformat": 4,
    "colab": {
      "provenance": []
    }
  },
  "nbformat": 4,
  "nbformat_minor": 0
}